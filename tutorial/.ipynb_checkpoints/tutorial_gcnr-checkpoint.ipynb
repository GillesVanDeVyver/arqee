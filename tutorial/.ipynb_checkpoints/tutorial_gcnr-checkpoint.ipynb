{
 "cells": [
  {
   "cell_type": "code",
   "execution_count": null,
   "id": "ed720652-abca-4195-9b61-769d73a96497",
   "metadata": {
    "ExecuteTime": {
     "end_time": "2024-06-07T13:50:37.060610Z",
     "start_time": "2024-06-07T13:50:32.988842Z"
    },
    "collapsed": false,
    "jupyter": {
     "outputs_hidden": false
    }
   },
   "outputs": [],
   "source": [
    "# Install the package from bitbucket.\n",
    "!pip uninstall arqee -y # remove existing installation, if any\n",
    "!pip install ../"
   ]
  },
  {
   "cell_type": "code",
   "execution_count": null,
   "id": "8281a9c4-6eef-425b-b6cf-b0a09be11368",
   "metadata": {
    "ExecuteTime": {
     "end_time": "2024-06-07T13:50:42.031243Z",
     "start_time": "2024-06-07T13:50:37.063810Z"
    }
   },
   "outputs": [],
   "source": [
    "# Some additional libraries for the toturial\n",
    "!pip install matplotlib\n",
    "!pip install tqdm\n",
    "!pip install gif"
   ]
  },
  {
   "cell_type": "code",
   "execution_count": null,
   "id": "905a1b58-485c-4214-afd8-b53ea95f8fab",
   "metadata": {
    "ExecuteTime": {
     "end_time": "2024-06-07T13:50:42.561036Z",
     "start_time": "2024-06-07T13:50:42.032595Z"
    },
    "scrolled": true
   },
   "outputs": [],
   "source": [
    "# Donwload a small sample of test data\n",
    "# This will download +-240Mb of data under ./local__data/sample_data\n",
    "import os\n",
    "import arqee\n",
    "current_directory = os.getcwd()\n",
    "download_loc = os.path.join(current_directory,\"local_data\")\n",
    "arqee.download_data_sample(download_loc,verbose=True)"
   ]
  },
  {
   "cell_type": "code",
   "execution_count": null,
   "id": "f43298e9-bf29-4bf1-a58b-5db78eae4b8b",
   "metadata": {
    "ExecuteTime": {
     "end_time": "2024-06-07T13:50:42.675020Z",
     "start_time": "2024-06-07T13:50:42.562100Z"
    }
   },
   "outputs": [],
   "source": [
    "# Load a sample\n",
    "import os\n",
    "import numpy as np\n",
    "import matplotlib.pyplot as plt\n",
    "sample_alax = np.load(os.path.join(download_loc,\"sample_data/a2c.npy\"))\n",
    "# sample_alax is an ndarray of shape (nb_frames,height,width) with values in range [0,255]\n",
    "sample_frame = sample_alax[-1]\n",
    "plt.imshow(sample_frame, cmap='gray')\n",
    "plt.show()"
   ]
  },
  {
   "cell_type": "code",
   "execution_count": null,
   "id": "68f3e033-265f-4e11-8648-9dcd91ee7067",
   "metadata": {
    "ExecuteTime": {
     "end_time": "2024-06-07T13:50:42.677943Z",
     "start_time": "2024-06-07T13:50:42.675680Z"
    }
   },
   "outputs": [],
   "source": [
    "'''\n",
    "we apply classic left ventricle and myocardium segmentation and divide the segmentation into 8 regions:\n",
    "basal_left,mid_left,apical_left,apical_right,mid_right,basal_right,annulus_left,annulus_right\n",
    "There are two segmentation models available:\n",
    "    - 'nnunet_hunt4_alax' (33M parameters)\n",
    "    - 'nnunet_hunt4_a2c_a4c'  (33M parameters)\n",
    "'''\n",
    "model_name_seg = 'nnunet_hunt4_a2c_a4c'\n",
    "arqee.download_and_set_up_model(model_name_seg)"
   ]
  },
  {
   "cell_type": "code",
   "execution_count": null,
   "id": "415b90e434b995e6",
   "metadata": {},
   "outputs": [],
   "source": [
    "# Once the model is set up in arqee, we can load it as follows:\n",
    "model_object_seg = arqee.load_model(model_name_seg)"
   ]
  },
  {
   "cell_type": "code",
   "execution_count": null,
   "id": "03d4e02b-9b0c-4ef6-b42e-6d20fe8f8415",
   "metadata": {
    "ExecuteTime": {
     "end_time": "2024-06-07T13:50:43.922769Z",
     "start_time": "2024-06-07T13:50:43.752618Z"
    }
   },
   "outputs": [],
   "source": [
    "# Now we can run the segmentation and divide the result into the 8 regions specified above\n",
    "sample_frame_with_channel = np.expand_dims(sample_frame, axis=0) # add channel dimension\n",
    "segmentation_sample = model_object_seg.predict_img(sample_frame_with_channel,verbose=False)\n",
    "divided_indices=[0,1,2,3,4,5,6,7]\n",
    "segmentation_regions = arqee.divide_segmentation(segmentation_sample,new_labels=divided_indices)\n",
    "# this is an array of shape (8,256,256) with the 8 masks of the 8 regions. \n",
    "# Note some regions might be overlapping\n",
    "visualization=arqee.create_visualization(sample_frame,segmentation_regions,labels=divided_indices)\n",
    "plt.imshow(visualization)\n",
    "plt.show()"
   ]
  },
  {
   "cell_type": "code",
   "execution_count": null,
   "id": "b61e3e94-72df-4e2b-9b0f-da20b44a45f2",
   "metadata": {
    "ExecuteTime": {
     "end_time": "2024-06-07T13:50:43.925284Z",
     "start_time": "2024-06-07T13:50:43.923543Z"
    }
   },
   "outputs": [],
   "source": [
    "# We calculate the gcnr quality metric for each region by using the myocardium region as region of interest and the lv lumen as background\n",
    "# Let's set up the pixel based method\n",
    "# Available pixel-based models are:\n",
    "# - 'pixel_based_gcnr'\n",
    "# - 'pixel_based_cnr'\n",
    "# - 'pixel_based_cr'\n",
    "# - 'pixel_based_intensity'\n",
    "pixel_based_model=arqee.set_up_pixel_based_method(\"pixel_based_gcnr\")"
   ]
  },
  {
   "cell_type": "code",
   "execution_count": null,
   "id": "f3b0f57a-3c94-452e-9b33-46ed5240cac8",
   "metadata": {
    "ExecuteTime": {
     "end_time": "2024-06-07T13:50:44.007590Z",
     "start_time": "2024-06-07T13:50:43.925826Z"
    }
   },
   "outputs": [],
   "source": [
    "gcnr_values = pixel_based_model.predict_img(sample_frame_with_channel,segmentation=segmentation_sample,\n",
    "                                          apply_linear_model=False)\n",
    "print(gcnr_values)\n",
    "\n",
    "# We can also apply a linear model to the gcnr values to get the quality labels. \n",
    "# This linear model is fitted on the validation set to map from quality metrics to quality labels.\n",
    "quality_labels = pixel_based_model.predict_img(sample_frame_with_channel,segmentation=segmentation_sample,\n",
    "                                             apply_linear_model=True, convert_to_labels=True)\n",
    "print(quality_labels)"
   ]
  },
  {
   "cell_type": "code",
   "execution_count": null,
   "id": "f3fab4d9-9d30-4c33-b2e1-f8466d2f2ebe",
   "metadata": {
    "ExecuteTime": {
     "end_time": "2024-06-07T13:50:44.148905Z",
     "start_time": "2024-06-07T13:50:44.008633Z"
    }
   },
   "outputs": [],
   "source": [
    "# Let's visualize the quality predictions from the pixel-based method\n",
    "from skimage.transform import resize\n",
    "\n",
    "sample_frame_resized = resize(sample_frame, (256, 256), preserve_range=True)\n",
    "_ = arqee.plot_quality_prediction_result(sample_frame_resized,segmentation_sample,quality_labels)\n",
    "plt.show()"
   ]
  }
 ],
 "metadata": {
  "kernelspec": {
   "display_name": "Python 3 (ipykernel)",
   "language": "python",
   "name": "python3"
  },
  "language_info": {
   "codemirror_mode": {
    "name": "ipython",
    "version": 3
   },
   "file_extension": ".py",
   "mimetype": "text/x-python",
   "name": "python",
   "nbconvert_exporter": "python",
   "pygments_lexer": "ipython3",
   "version": "3.10.14"
  }
 },
 "nbformat": 4,
 "nbformat_minor": 5
}
